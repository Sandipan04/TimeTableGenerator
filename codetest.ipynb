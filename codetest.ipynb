{
 "cells": [
  {
   "cell_type": "code",
   "execution_count": 1,
   "metadata": {},
   "outputs": [],
   "source": [
    "class Student:\n",
    "    def __init__(self, name, batch, department, courses=[]):\n",
    "        self.name = name\n",
    "        self.batch = batch\n",
    "        self.department = department\n",
    "        self.courses = list(set(courses))  # Ensure unique courses\n",
    "\n",
    "    def add_courses(self, courses):\n",
    "        self.courses = list(set(self.courses.extend(courses)))\n",
    "    \n",
    "    def remove_courses(self, courses):\n",
    "        self.courses = list(set(self.courses).difference(courses))\n",
    "    \n",
    "    def __str__(self):\n",
    "        return f\"{self.name} ({self.batch}) - {self.department} - {', '.join(self.courses)}\""
   ]
  },
  {
   "cell_type": "code",
   "execution_count": 3,
   "metadata": {},
   "outputs": [],
   "source": [
    "class Course:\n",
    "    def __init__(self, name, code, department, core_for=None):\n",
    "        self.name = name\n",
    "        self.code = code\n",
    "        self.department = department\n",
    "        self.core_for = core_for      # core_for = (batch, department)\n",
    "\n",
    "    def __str__(self):\n",
    "        return f\"{self.name} ({self.code}) - {self.department}\""
   ]
  },
  {
   "cell_type": "code",
   "execution_count": 4,
   "metadata": {},
   "outputs": [],
   "source": [
    "class Management:\n",
    "    def __init__(self):\n",
    "        self.students = []\n",
    "        self.courses = []\n",
    "\n",
    "    def add_student(self, students):\n",
    "        self.students = list(set(self.students.extend(students)))\n",
    "\n",
    "    def add_course(self, courses):\n",
    "        self.courses = list(set(self.courses.extend(courses)))\n",
    "\n",
    "    def remove_student(self, students):\n",
    "        self.students = list(set(self.students).difference(students))\n",
    "\n",
    "    def remove_course(self, courses):\n",
    "        self.courses = list(set(self.courses).difference(courses))\n",
    "\n",
    "    def get_students(self, department=None):\n",
    "        if department:\n",
    "            return [student for student in self.students if student.department == department]\n",
    "        return self.students\n",
    "\n",
    "    def get_courses(self, department=None):\n",
    "        if department:\n",
    "            return [course for course in self.courses if course.department == department]\n",
    "        return self.courses\n",
    "\n",
    "    def get_students_for_course(self, course):\n",
    "        return [student for student in self.students if course in student.courses]\n",
    "\n",
    "    def get_courses_for_student(self, student):\n",
    "        return [course for course in self.courses if course in student.courses]\n",
    "\n",
    "    def get_core_courses(self, batch, department):\n",
    "        return [course for course in self.courses if course.core_for == (batch, department)]\n",
    "\n",
    "    def __str__(self):\n",
    "        return f\"Management System with {len(self.students)} students and {len(self.courses)} courses\""
   ]
  },
  {
   "cell_type": "code",
   "execution_count": 2,
   "metadata": {},
   "outputs": [
    {
     "name": "stdout",
     "output_type": "stream",
     "text": [
      "Alice (2020) - CSE - CSE102, CSE101\n"
     ]
    }
   ],
   "source": [
    "a = Student(\"Alice\", 2020, \"CSE\", [\"CSE101\", \"CSE102\"])\n",
    "print(a)"
   ]
  }
 ],
 "metadata": {
  "kernelspec": {
   "display_name": "CodingClub",
   "language": "python",
   "name": "python3"
  },
  "language_info": {
   "codemirror_mode": {
    "name": "ipython",
    "version": 3
   },
   "file_extension": ".py",
   "mimetype": "text/x-python",
   "name": "python",
   "nbconvert_exporter": "python",
   "pygments_lexer": "ipython3",
   "version": "3.12.5"
  }
 },
 "nbformat": 4,
 "nbformat_minor": 2
}
